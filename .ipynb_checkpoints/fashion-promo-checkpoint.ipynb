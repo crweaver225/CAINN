{
 "cells": [
  {
   "cell_type": "code",
   "execution_count": 1,
   "metadata": {},
   "outputs": [],
   "source": [
    "from enum import Enum\n",
    "import ctypes\n",
    "import sys\n",
    "import gc\n",
    "import operator\n",
    "import numpy as np\n",
    "from numpy import genfromtxt\n",
    "from PIL import Image\n",
    "from matplotlib import pyplot as plt"
   ]
  },
  {
   "cell_type": "code",
   "execution_count": 2,
   "metadata": {},
   "outputs": [],
   "source": [
    "my_data = np.loadtxt('fashion-mnist_train.csv', delimiter=',')\n",
    "train_labels = my_data[:,:1]\n",
    "train_data = my_data[:,1:]\n",
    "train_data = train_data.astype('float32')\n",
    "train_data /= 255"
   ]
  },
  {
   "cell_type": "code",
   "execution_count": 3,
   "metadata": {},
   "outputs": [],
   "source": [
    "lr = np.arange(10)\n",
    "\n",
    "test_data = train_data[40000:]\n",
    "test_labels = train_labels[40000:]\n",
    "test_labels_one_hot = (lr==test_labels).astype(np.float)\n",
    "\n",
    "train_data_final = train_data[:60000].tolist()\n",
    "train_labels = train_labels[:60000].tolist()\n",
    "train_labels_one_hot = (lr==train_labels).astype(np.float)\n",
    "\n",
    "answer_to_text = [\"T-shirt/top\",\"Trouser\",\"Pullover\",\"Dress\",\"Coat\",\"Sandal\",\"Shirt\",\"Sneaker\",\"Bag\",\"Ankle boot\"]"
   ]
  },
  {
   "cell_type": "code",
   "execution_count": 4,
   "metadata": {},
   "outputs": [
    {
     "data": {
      "image/png": "[encoded data removed]",
      "text/plain": [
       "<Figure size 432x288 with 1 Axes>"
      ]
     },
     "metadata": {
      "needs_background": "light"
     },
     "output_type": "display_data"
    }
   ],
   "source": [
    "first_image = train_data[1]\n",
    "pixels = first_image.reshape((28,28))\n",
    "plt.imshow(pixels, cmap='gray')\n",
    "plt.show()"
   ]
  },
  {
   "cell_type": "code",
   "execution_count": 5,
   "metadata": {},
   "outputs": [],
   "source": [
    "from Neural_Network import Neural_Network\n",
    "from Neural_Network import Activation_Function\n",
    "from Neural_Network import Loss"
   ]
  },
  {
   "cell_type": "code",
   "execution_count": 6,
   "metadata": {},
   "outputs": [],
   "source": [
    "nn = Neural_Network()\n",
    "nn.add_input_layer([1,28,28])\n",
    "nn.add_convolutional_layer(16,3,3)\n",
    "#nn.add_maxpool_layer(2,1)\n",
    "#nn.add_convolutional_layer(32,3,2)\n",
    "#nn.add_maxpool_layer(2,1)\n",
    "#nn.add_convolutional_layer(64,3,3)\n",
    "nn.add_flatten_layer()\n",
    "nn.add_fully_connected_layer(500, Activation_Function.Relu)\n",
    "nn.add_fully_connected_layer(300, Activation_Function.Relu)\n",
    "nn.add_fully_connected_layer(100, Activation_Function.Relu)\n",
    "nn.add_fully_connected_layer(50, Activation_Function.Relu)\n",
    "nn.add_output_layer(10, Activation_Function.SoftMax)"
   ]
  },
  {
   "cell_type": "code",
   "execution_count": 7,
   "metadata": {},
   "outputs": [],
   "source": [
    "nn.build()\n",
    "nn.print_loss_every_iterations(1)\n",
    "nn.shuffle_training_data(True)"
   ]
  },
  {
   "cell_type": "code",
   "execution_count": null,
   "metadata": {},
   "outputs": [],
   "source": [
    "nn.setLearningRate(0.01)\n",
    "nn.train(train_data_final, train_labels_one_hot, 128, 10, Loss.CrossEntropy)"
   ]
  },
  {
   "cell_type": "code",
   "execution_count": 33,
   "metadata": {},
   "outputs": [
    {
     "name": "stdout",
     "output_type": "stream",
     "text": [
      "percent correct: \n",
      "0.10165\n"
     ]
    }
   ],
   "source": [
    "index = 0\n",
    "matches = 0\n",
    "for data in test_data:\n",
    "    output = nn.execute(test_data[index])\n",
    "    outputIndex, value = max(enumerate(output), key=operator.itemgetter(1))\n",
    "    if outputIndex == test_labels[index][0]:\n",
    "        matches += 1\n",
    "    index += 1\n",
    "match_percentage = matches / index\n",
    "print(\"percent correct: \")\n",
    "print(match_percentage)\n"
   ]
  },
  {
   "cell_type": "code",
   "execution_count": 26,
   "metadata": {},
   "outputs": [
    {
     "data": {
      "image/png": "[encoded data removed]",
      "text/plain": [
       "<Figure size 432x288 with 1 Axes>"
      ]
     },
     "metadata": {
      "needs_background": "light"
     },
     "output_type": "display_data"
    }
   ],
   "source": [
    "display_test_output = test_data[0]\n",
    "pixels = display_test_output.reshape((28,28))\n",
    "plt.imshow(pixels, cmap='gray')\n",
    "plt.show()"
   ]
  },
  {
   "cell_type": "code",
   "execution_count": 27,
   "metadata": {},
   "outputs": [
    {
     "name": "stdout",
     "output_type": "stream",
     "text": [
      "T-shirt/top\n",
      "0.9643620252609253\n"
     ]
    }
   ],
   "source": [
    "display_test_example = nn.execute(test_data[0])\n",
    "outputIndex, value = max(enumerate(display_test_example), key=operator.itemgetter(1))\n",
    "print(answer_to_text[outputIndex])\n",
    "print(value)\n"
   ]
  },
  {
   "cell_type": "code",
   "execution_count": 28,
   "metadata": {},
   "outputs": [
    {
     "data": {
      "image/png": "[encoded data removed]",
      "text/plain": [
       "<Figure size 432x288 with 1 Axes>"
      ]
     },
     "metadata": {
      "needs_background": "light"
     },
     "output_type": "display_data"
    }
   ],
   "source": [
    "display_test_output = test_data[1]\n",
    "pixels = display_test_output.reshape((28,28))\n",
    "plt.imshow(pixels, cmap='gray')\n",
    "plt.show()"
   ]
  },
  {
   "cell_type": "code",
   "execution_count": 29,
   "metadata": {},
   "outputs": [
    {
     "name": "stdout",
     "output_type": "stream",
     "text": [
      "Trouser\n",
      "0.9998193383216858\n"
     ]
    }
   ],
   "source": [
    "display_test_example = nn.execute(test_data[1])\n",
    "outputIndex, value = max(enumerate(display_test_example), key=operator.itemgetter(1))\n",
    "print(answer_to_text[outputIndex])\n",
    "print(value)\n"
   ]
  },
  {
   "cell_type": "code",
   "execution_count": 19,
   "metadata": {},
   "outputs": [
    {
     "data": {
      "image/png": "[encoded data removed]",
      "text/plain": [
       "<Figure size 640x480 with 1 Axes>"
      ]
     },
     "metadata": {},
     "output_type": "display_data"
    }
   ],
   "source": [
    "display_test_output = test_data[14]\n",
    "pixels = display_test_output.reshape((28,28))\n",
    "plt.imshow(pixels, cmap='gray')\n",
    "plt.show()"
   ]
  },
  {
   "cell_type": "code",
   "execution_count": 20,
   "metadata": {},
   "outputs": [
    {
     "name": "stdout",
     "output_type": "stream",
     "text": [
      "Coat\n",
      "0.526158332824707\n"
     ]
    }
   ],
   "source": [
    "display_test_example = nn.execute(test_data[14])\n",
    "outputIndex, value = max(enumerate(display_test_example), key=operator.itemgetter(1))\n",
    "print(answer_to_text[outputIndex])\n",
    "print(value)\n"
   ]
  },
  {
   "cell_type": "code",
   "execution_count": null,
   "metadata": {},
   "outputs": [],
   "source": []
  }
 ],
 "metadata": {
  "kernelspec": {
   "display_name": "Python 3",
   "language": "python",
   "name": "python3"
  },
  "language_info": {
   "codemirror_mode": {
    "name": "ipython",
    "version": 3
   },
   "file_extension": ".py",
   "mimetype": "text/x-python",
   "name": "python",
   "nbconvert_exporter": "python",
   "pygments_lexer": "ipython3",
   "version": "3.7.6"
  }
 },
 "nbformat": 4,
 "nbformat_minor": 4
}
