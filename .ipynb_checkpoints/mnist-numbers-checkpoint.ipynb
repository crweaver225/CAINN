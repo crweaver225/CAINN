{
 "cells": [
  {
   "cell_type": "code",
   "execution_count": 6,
   "metadata": {},
   "outputs": [],
   "source": [
    "from enum import Enum\n",
    "import ctypes\n",
    "import sys\n",
    "import gc\n",
    "import operator\n",
    "from Neural_Network import Neural_Network\n",
    "from Neural_Network import Activation_Function\n",
    "from Neural_Network import Loss\n",
    "import numpy as np\n",
    "from numpy import genfromtxt\n",
    "from PIL import Image\n",
    "from matplotlib import pyplot as plt"
   ]
  },
  {
   "cell_type": "code",
   "execution_count": 7,
   "metadata": {},
   "outputs": [],
   "source": [
    "my_data = np.loadtxt('mnist_train.csv', delimiter=',')\n",
    "train_labels = my_data[:,:1]\n",
    "train_data = my_data[:,1:]\n",
    "train_data = train_data.astype('float32')\n",
    "train_data /= 255"
   ]
  },
  {
   "cell_type": "code",
   "execution_count": 8,
   "metadata": {},
   "outputs": [],
   "source": [
    "lr = np.arange(10)\n",
    "test_data = train_data[10:]\n",
    "test_labels = train_labels[10:]\n",
    "test_labels_one_hot = (lr==test_labels).astype(float)\n",
    "\n",
    "train_data_final = train_data[:10].tolist()\n",
    "train_labels = train_labels[:10].tolist()\n",
    "train_labels_one_hot = (lr==train_labels).astype(float)"
   ]
  },
  {
   "cell_type": "code",
   "execution_count": 9,
   "metadata": {},
   "outputs": [
    {
     "ename": "AttributeError",
     "evalue": "dlsym(0x3098590a0, add_convolutional_layer): symbol not found",
     "output_type": "error",
     "traceback": [
      "\u001b[0;31m---------------------------------------------------------------------------\u001b[0m",
      "\u001b[0;31mAttributeError\u001b[0m                            Traceback (most recent call last)",
      "Cell \u001b[0;32mIn [9], line 3\u001b[0m\n\u001b[1;32m      1\u001b[0m nn \u001b[38;5;241m=\u001b[39m Neural_Network()\n\u001b[1;32m      2\u001b[0m nn\u001b[38;5;241m.\u001b[39madd_input_layer([\u001b[38;5;241m1\u001b[39m,\u001b[38;5;241m3\u001b[39m,\u001b[38;5;241m3\u001b[39m])\n\u001b[0;32m----> 3\u001b[0m \u001b[43mnn\u001b[49m\u001b[38;5;241;43m.\u001b[39;49m\u001b[43madd_convolutional_layer\u001b[49m\u001b[43m(\u001b[49m\u001b[38;5;241;43m2\u001b[39;49m\u001b[43m,\u001b[49m\u001b[38;5;241;43m2\u001b[39;49m\u001b[43m,\u001b[49m\u001b[38;5;241;43m1\u001b[39;49m\u001b[43m)\u001b[49m\n\u001b[1;32m      4\u001b[0m nn\u001b[38;5;241m.\u001b[39madd_flatten_layer()\n\u001b[1;32m      5\u001b[0m nn\u001b[38;5;241m.\u001b[39madd_fully_connected_layer(\u001b[38;5;241m100\u001b[39m, )\n",
      "File \u001b[0;32m~/Desktop/CAINN/Neural_Network.py:123\u001b[0m, in \u001b[0;36mNeural_Network.add_convolutional_layer\u001b[0;34m(self, kernels, kernel_size, stride)\u001b[0m\n\u001b[1;32m    122\u001b[0m \u001b[38;5;28;01mdef\u001b[39;00m \u001b[38;5;21madd_convolutional_layer\u001b[39m(\u001b[38;5;28mself\u001b[39m, kernels, kernel_size, stride):\n\u001b[0;32m--> 123\u001b[0m     \u001b[43mlib\u001b[49m\u001b[38;5;241;43m.\u001b[39;49m\u001b[43madd_convolutional_layer\u001b[49m(\u001b[38;5;28mself\u001b[39m\u001b[38;5;241m.\u001b[39mobj, kernels, kernel_size, stride)\n",
      "File \u001b[0;32m~/opt/anaconda3/lib/python3.8/ctypes/__init__.py:394\u001b[0m, in \u001b[0;36mCDLL.__getattr__\u001b[0;34m(self, name)\u001b[0m\n\u001b[1;32m    392\u001b[0m \u001b[38;5;28;01mif\u001b[39;00m name\u001b[38;5;241m.\u001b[39mstartswith(\u001b[38;5;124m'\u001b[39m\u001b[38;5;124m__\u001b[39m\u001b[38;5;124m'\u001b[39m) \u001b[38;5;129;01mand\u001b[39;00m name\u001b[38;5;241m.\u001b[39mendswith(\u001b[38;5;124m'\u001b[39m\u001b[38;5;124m__\u001b[39m\u001b[38;5;124m'\u001b[39m):\n\u001b[1;32m    393\u001b[0m     \u001b[38;5;28;01mraise\u001b[39;00m \u001b[38;5;167;01mAttributeError\u001b[39;00m(name)\n\u001b[0;32m--> 394\u001b[0m func \u001b[38;5;241m=\u001b[39m \u001b[38;5;28;43mself\u001b[39;49m\u001b[38;5;241;43m.\u001b[39;49m\u001b[38;5;21;43m__getitem__\u001b[39;49m\u001b[43m(\u001b[49m\u001b[43mname\u001b[49m\u001b[43m)\u001b[49m\n\u001b[1;32m    395\u001b[0m \u001b[38;5;28msetattr\u001b[39m(\u001b[38;5;28mself\u001b[39m, name, func)\n\u001b[1;32m    396\u001b[0m \u001b[38;5;28;01mreturn\u001b[39;00m func\n",
      "File \u001b[0;32m~/opt/anaconda3/lib/python3.8/ctypes/__init__.py:399\u001b[0m, in \u001b[0;36mCDLL.__getitem__\u001b[0;34m(self, name_or_ordinal)\u001b[0m\n\u001b[1;32m    398\u001b[0m \u001b[38;5;28;01mdef\u001b[39;00m \u001b[38;5;21m__getitem__\u001b[39m(\u001b[38;5;28mself\u001b[39m, name_or_ordinal):\n\u001b[0;32m--> 399\u001b[0m     func \u001b[38;5;241m=\u001b[39m \u001b[38;5;28;43mself\u001b[39;49m\u001b[38;5;241;43m.\u001b[39;49m\u001b[43m_FuncPtr\u001b[49m\u001b[43m(\u001b[49m\u001b[43m(\u001b[49m\u001b[43mname_or_ordinal\u001b[49m\u001b[43m,\u001b[49m\u001b[43m \u001b[49m\u001b[38;5;28;43mself\u001b[39;49m\u001b[43m)\u001b[49m\u001b[43m)\u001b[49m\n\u001b[1;32m    400\u001b[0m     \u001b[38;5;28;01mif\u001b[39;00m \u001b[38;5;129;01mnot\u001b[39;00m \u001b[38;5;28misinstance\u001b[39m(name_or_ordinal, \u001b[38;5;28mint\u001b[39m):\n\u001b[1;32m    401\u001b[0m         func\u001b[38;5;241m.\u001b[39m\u001b[38;5;18m__name__\u001b[39m \u001b[38;5;241m=\u001b[39m name_or_ordinal\n",
      "\u001b[0;31mAttributeError\u001b[0m: dlsym(0x3098590a0, add_convolutional_layer): symbol not found"
     ]
    }
   ],
   "source": [
    "nn = Neural_Network()\n",
    "nn.add_input_layer([1,3,3])\n",
    "nn.add_convolutional_layer(2,2,1)\n",
    "nn.add_flatten_layer()\n",
    "nn.add_fully_connected_layer(100, Activation_Function.Relu)\n",
    "\n",
    "#nn.add_dropout_layer(0.1)\n",
    "#nn.add_dropout_layer(0.1)\n",
    "nn.add_output_layer(10, Activation_Function.SoftMax)"
   ]
  },
  {
   "cell_type": "code",
   "execution_count": 6,
   "metadata": {},
   "outputs": [
    {
     "name": "stdout",
     "output_type": "stream",
     "text": [
      "Dropout Layer constructor\n",
      "Dropout Layer constructor\n",
      "Dropout Layer constructor\n",
      "Dropout Layer constructor\n",
      "Dropout Layer constructor\n",
      "Dropout Layer constructor\n",
      "Input layer: (1,1,784)\n"
     ]
    }
   ],
   "source": [
    "nn.build()\n",
    "nn.print_loss_every_iterations(1)\n",
    "nn.shuffle_training_data(True)"
   ]
  },
  {
   "cell_type": "code",
   "execution_count": null,
   "metadata": {},
   "outputs": [
    {
     "name": "stdout",
     "output_type": "stream",
     "text": [
      "fully connected layer: (784, 400)\n",
      "dropout layer: (10% dropped)\n",
      "fully connected layer: (400, 250)\n",
      "dropout layer: (10% dropped)\n",
      "fully connected layer: (250, 200)\n",
      "dropout layer: (10% dropped)\n",
      "fully connected layer: (200, 175)\n",
      "dropout layer: (10% dropped)\n",
      "fully connected layer: (175, 150)\n",
      "dropout layer: (10% dropped)\n",
      "fully connected layer: (150, 100)\n",
      "dropout layer: (10% dropped)\n",
      "fully connected layer: (100, 50)\n",
      "output layer: (50,10)\n",
      "Starting to train neural network...Number of epochs: 5 Batch size: 8, input size: 40000\n",
      " iteration: 1 , Loss: 1.25881\n",
      "Shuffling data ...\n"
     ]
    }
   ],
   "source": [
    "nn.setLearningRate(0.01)\n",
    "nn.train(train_data_final, train_labels_one_hot, 8, 5, Loss.CrossEntropy)"
   ]
  },
  {
   "cell_type": "code",
   "execution_count": 30,
   "metadata": {},
   "outputs": [
    {
     "name": "stdout",
     "output_type": "stream",
     "text": [
      "percent correct: \n",
      "0.14555\n"
     ]
    }
   ],
   "source": [
    "index = 0\n",
    "matches = 0\n",
    "for data in test_data:\n",
    "    output = nn.execute(test_data[index])\n",
    "    outputIndex, value = max(enumerate(output), key=operator.itemgetter(1))\n",
    "    if outputIndex == test_labels[index][0]:\n",
    "        matches += 1\n",
    "    index += 1\n",
    "match_percentage = matches / index\n",
    "print(\"percent correct: \")\n",
    "print(match_percentage)"
   ]
  },
  {
   "cell_type": "code",
   "execution_count": 13,
   "metadata": {},
   "outputs": [
    {
     "data": {
      "image/png": "[encoded data removed]",
      "text/plain": [
       "<Figure size 640x480 with 1 Axes>"
      ]
     },
     "metadata": {},
     "output_type": "display_data"
    }
   ],
   "source": [
    "display_test_output = test_data[0]\n",
    "pixels = display_test_output.reshape((28,28))\n",
    "plt.imshow(pixels, cmap='gray')\n",
    "plt.show()"
   ]
  },
  {
   "cell_type": "code",
   "execution_count": 14,
   "metadata": {},
   "outputs": [
    {
     "name": "stdout",
     "output_type": "stream",
     "text": [
      "1\n",
      "0.11198294162750244\n"
     ]
    }
   ],
   "source": [
    "display_test_example = nn.execute(test_data[0])\n",
    "\n",
    "outputIndex, value = max(enumerate(display_test_example), key=operator.itemgetter(1))\n",
    "print(outputIndex)\n",
    "print(value)"
   ]
  },
  {
   "cell_type": "code",
   "execution_count": 15,
   "metadata": {},
   "outputs": [
    {
     "data": {
      "image/png": "[encoded data removed]",
      "text/plain": [
       "<Figure size 640x480 with 1 Axes>"
      ]
     },
     "metadata": {},
     "output_type": "display_data"
    }
   ],
   "source": [
    "display_test_output = test_data[2]\n",
    "pixels = display_test_output.reshape((28,28))\n",
    "plt.imshow(pixels, cmap='gray')\n",
    "plt.show()"
   ]
  },
  {
   "cell_type": "code",
   "execution_count": 16,
   "metadata": {},
   "outputs": [
    {
     "name": "stdout",
     "output_type": "stream",
     "text": [
      "1\n",
      "0.11199255287647247\n"
     ]
    }
   ],
   "source": [
    "display_test_example = nn.execute(test_data[2])\n",
    "\n",
    "outputIndex, value = max(enumerate(display_test_example), key=operator.itemgetter(1))\n",
    "print(outputIndex)\n",
    "print(value)"
   ]
  },
  {
   "cell_type": "code",
   "execution_count": 27,
   "metadata": {},
   "outputs": [
    {
     "data": {
      "image/png": "[encoded data removed]",
      "text/plain": [
       "<Figure size 640x480 with 1 Axes>"
      ]
     },
     "metadata": {},
     "output_type": "display_data"
    }
   ],
   "source": [
    "display_test_output = test_data[5]\n",
    "pixels = display_test_output.reshape((28,28))\n",
    "plt.imshow(pixels, cmap='gray')\n",
    "plt.show()"
   ]
  },
  {
   "cell_type": "code",
   "execution_count": 28,
   "metadata": {},
   "outputs": [
    {
     "name": "stdout",
     "output_type": "stream",
     "text": [
      "3\n",
      "0.15948650240898132\n"
     ]
    }
   ],
   "source": [
    "display_test_example = nn.execute(test_data[5])\n",
    "\n",
    "outputIndex, value = max(enumerate(display_test_example), key=operator.itemgetter(1))\n",
    "print(outputIndex)\n",
    "print(value)"
   ]
  },
  {
   "cell_type": "code",
   "execution_count": null,
   "metadata": {},
   "outputs": [],
   "source": []
  }
 ],
 "metadata": {
  "kernelspec": {
   "display_name": "Python 3 (ipykernel)",
   "language": "python",
   "name": "python3"
  },
  "language_info": {
   "codemirror_mode": {
    "name": "ipython",
    "version": 3
   },
   "file_extension": ".py",
   "mimetype": "text/x-python",
   "name": "python",
   "nbconvert_exporter": "python",
   "pygments_lexer": "ipython3",
   "version": "3.8.5"
  }
 },
 "nbformat": 4,
 "nbformat_minor": 4
}
