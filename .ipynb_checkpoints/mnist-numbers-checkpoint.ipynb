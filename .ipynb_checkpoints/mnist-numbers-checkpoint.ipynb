{
 "cells": [
  {
   "cell_type": "code",
   "execution_count": 1,
   "metadata": {},
   "outputs": [
    {
     "ename": "OSError",
     "evalue": "./build/libNeural_Network.so: undefined symbol: _ZN21Fully_Connected_LayerC1EOS_",
     "output_type": "error",
     "traceback": [
      "\u001b[0;31m---------------------------------------------------------------------------\u001b[0m",
      "\u001b[0;31mOSError\u001b[0m                                   Traceback (most recent call last)",
      "Cell \u001b[0;32mIn [1], line 6\u001b[0m\n\u001b[1;32m      4\u001b[0m \u001b[38;5;28;01mimport\u001b[39;00m \u001b[38;5;21;01mgc\u001b[39;00m\n\u001b[1;32m      5\u001b[0m \u001b[38;5;28;01mimport\u001b[39;00m \u001b[38;5;21;01moperator\u001b[39;00m\n\u001b[0;32m----> 6\u001b[0m \u001b[38;5;28;01mfrom\u001b[39;00m \u001b[38;5;21;01mNeural_Network\u001b[39;00m \u001b[38;5;28;01mimport\u001b[39;00m Neural_Network\n\u001b[1;32m      7\u001b[0m \u001b[38;5;28;01mfrom\u001b[39;00m \u001b[38;5;21;01mNeural_Network\u001b[39;00m \u001b[38;5;28;01mimport\u001b[39;00m Activation_Function\n\u001b[1;32m      8\u001b[0m \u001b[38;5;28;01mfrom\u001b[39;00m \u001b[38;5;21;01mNeural_Network\u001b[39;00m \u001b[38;5;28;01mimport\u001b[39;00m Loss\n",
      "File \u001b[0;32m~/Desktop/CAINN/Neural_Network.py:34\u001b[0m\n\u001b[1;32m     30\u001b[0m     Input \u001b[38;5;241m=\u001b[39m \u001b[38;5;124m\"\u001b[39m\u001b[38;5;124mInput\u001b[39m\u001b[38;5;124m\"\u001b[39m\n\u001b[1;32m     31\u001b[0m     Dropout \u001b[38;5;241m=\u001b[39m \u001b[38;5;124m\"\u001b[39m\u001b[38;5;124mDropout\u001b[39m\u001b[38;5;124m\"\u001b[39m\n\u001b[0;32m---> 34\u001b[0m lib \u001b[38;5;241m=\u001b[39m \u001b[43mctypes\u001b[49m\u001b[38;5;241;43m.\u001b[39;49m\u001b[43mcdll\u001b[49m\u001b[38;5;241;43m.\u001b[39;49m\u001b[43mLoadLibrary\u001b[49m\u001b[43m(\u001b[49m\u001b[38;5;124;43m'\u001b[39;49m\u001b[38;5;124;43m./build/libNeural_Network.so\u001b[39;49m\u001b[38;5;124;43m'\u001b[39;49m\u001b[43m)\u001b[49m\n\u001b[1;32m     37\u001b[0m \u001b[38;5;28;01mclass\u001b[39;00m \u001b[38;5;21;01mNeural_Network\u001b[39;00m(\u001b[38;5;28mobject\u001b[39m):\n\u001b[1;32m     38\u001b[0m     \u001b[38;5;28;01mdef\u001b[39;00m \u001b[38;5;21m__init__\u001b[39m(\u001b[38;5;28mself\u001b[39m):\n",
      "File \u001b[0;32m~/anaconda3/envs/cainn_env/lib/python3.10/ctypes/__init__.py:452\u001b[0m, in \u001b[0;36mLibraryLoader.LoadLibrary\u001b[0;34m(self, name)\u001b[0m\n\u001b[1;32m    451\u001b[0m \u001b[38;5;28;01mdef\u001b[39;00m \u001b[38;5;21mLoadLibrary\u001b[39m(\u001b[38;5;28mself\u001b[39m, name):\n\u001b[0;32m--> 452\u001b[0m     \u001b[38;5;28;01mreturn\u001b[39;00m \u001b[38;5;28;43mself\u001b[39;49m\u001b[38;5;241;43m.\u001b[39;49m\u001b[43m_dlltype\u001b[49m\u001b[43m(\u001b[49m\u001b[43mname\u001b[49m\u001b[43m)\u001b[49m\n",
      "File \u001b[0;32m~/anaconda3/envs/cainn_env/lib/python3.10/ctypes/__init__.py:374\u001b[0m, in \u001b[0;36mCDLL.__init__\u001b[0;34m(self, name, mode, handle, use_errno, use_last_error, winmode)\u001b[0m\n\u001b[1;32m    371\u001b[0m \u001b[38;5;28mself\u001b[39m\u001b[38;5;241m.\u001b[39m_FuncPtr \u001b[38;5;241m=\u001b[39m _FuncPtr\n\u001b[1;32m    373\u001b[0m \u001b[38;5;28;01mif\u001b[39;00m handle \u001b[38;5;129;01mis\u001b[39;00m \u001b[38;5;28;01mNone\u001b[39;00m:\n\u001b[0;32m--> 374\u001b[0m     \u001b[38;5;28mself\u001b[39m\u001b[38;5;241m.\u001b[39m_handle \u001b[38;5;241m=\u001b[39m \u001b[43m_dlopen\u001b[49m\u001b[43m(\u001b[49m\u001b[38;5;28;43mself\u001b[39;49m\u001b[38;5;241;43m.\u001b[39;49m\u001b[43m_name\u001b[49m\u001b[43m,\u001b[49m\u001b[43m \u001b[49m\u001b[43mmode\u001b[49m\u001b[43m)\u001b[49m\n\u001b[1;32m    375\u001b[0m \u001b[38;5;28;01melse\u001b[39;00m:\n\u001b[1;32m    376\u001b[0m     \u001b[38;5;28mself\u001b[39m\u001b[38;5;241m.\u001b[39m_handle \u001b[38;5;241m=\u001b[39m handle\n",
      "\u001b[0;31mOSError\u001b[0m: ./build/libNeural_Network.so: undefined symbol: _ZN21Fully_Connected_LayerC1EOS_"
     ]
    }
   ],
   "source": [
    "from enum import Enum\n",
    "import ctypes\n",
    "import sys\n",
    "import gc\n",
    "import operator\n",
    "from Neural_Network import Neural_Network\n",
    "from Neural_Network import Activation_Function\n",
    "from Neural_Network import Loss\n",
    "import numpy as np\n",
    "from numpy import genfromtxt\n",
    "from PIL import Image\n",
    "from matplotlib import pyplot as plt"
   ]
  },
  {
   "cell_type": "code",
   "execution_count": 2,
   "metadata": {},
   "outputs": [],
   "source": [
    "my_data = np.loadtxt('mnist_train.csv', delimiter=',')\n",
    "train_labels = my_data[:,:1]\n",
    "train_data = my_data[:,1:]\n",
    "train_data = train_data.astype('float32')\n",
    "train_data /= 255"
   ]
  },
  {
   "cell_type": "code",
   "execution_count": 3,
   "metadata": {},
   "outputs": [
    {
     "name": "stderr",
     "output_type": "stream",
     "text": [
      "/tmp/ipykernel_7553/1058798869.py:4: DeprecationWarning: `np.float` is a deprecated alias for the builtin `float`. To silence this warning, use `float` by itself. Doing this will not modify any behavior and is safe. If you specifically wanted the numpy scalar type, use `np.float64` here.\n",
      "Deprecated in NumPy 1.20; for more details and guidance: https://numpy.org/devdocs/release/1.20.0-notes.html#deprecations\n",
      "  test_labels_one_hot = (lr==test_labels).astype(np.float)\n",
      "/tmp/ipykernel_7553/1058798869.py:8: DeprecationWarning: `np.float` is a deprecated alias for the builtin `float`. To silence this warning, use `float` by itself. Doing this will not modify any behavior and is safe. If you specifically wanted the numpy scalar type, use `np.float64` here.\n",
      "Deprecated in NumPy 1.20; for more details and guidance: https://numpy.org/devdocs/release/1.20.0-notes.html#deprecations\n",
      "  train_labels_one_hot = (lr==train_labels).astype(np.float)\n"
     ]
    }
   ],
   "source": [
    "lr = np.arange(10)\n",
    "test_data = train_data[40000:]\n",
    "test_labels = train_labels[40000:]\n",
    "test_labels_one_hot = (lr==test_labels).astype(np.float)\n",
    "\n",
    "train_data_final = train_data[:40000].tolist()\n",
    "train_labels = train_labels[:40000].tolist()\n",
    "train_labels_one_hot = (lr==train_labels).astype(np.float)"
   ]
  },
  {
   "cell_type": "code",
   "execution_count": 6,
   "metadata": {},
   "outputs": [
    {
     "data": {
      "image/png": "[encoded data removed]",
      "text/plain": [
       "<Figure size 640x480 with 1 Axes>"
      ]
     },
     "metadata": {},
     "output_type": "display_data"
    }
   ],
   "source": [
    "first_image = train_data[0]\n",
    "pixels = first_image.reshape((28,28))\n",
    "plt.imshow(pixels, cmap='gray')\n",
    "plt.show()"
   ]
  },
  {
   "cell_type": "code",
   "execution_count": 7,
   "metadata": {},
   "outputs": [],
   "source": [
    "nn = Neural_Network()\n",
    "nn.add_input_layer([784])\n",
    "nn.add_fully_connected_layer(600, Activation_Function.Relu)\n",
    "nn.add_dropout_layer(0.1)\n",
    "nn.add_fully_connected_layer(300, Activation_Function.Relu)\n",
    "nn.add_dropout_layer(0.1)\n",
    "nn.add_fully_connected_layer(75, Activation_Function.Relu)\n",
    "nn.add_output_layer(10, Activation_Function.SoftMax)"
   ]
  },
  {
   "cell_type": "code",
   "execution_count": 8,
   "metadata": {},
   "outputs": [
    {
     "name": "stdout",
     "output_type": "stream",
     "text": [
      "Input layer: (1,1,784)\n",
      "fully connected layer: (784,600)\n",
      "dropout layer: (10% dropped)\n",
      "fully connected layer: (600,300)\n",
      "dropout layer: (10% dropped)\n",
      "fully connected layer: (300,75)\n",
      "output layer: (75,10) \n"
     ]
    }
   ],
   "source": [
    "nn.build()\n",
    "nn.print_loss_every_iterations(1)"
   ]
  },
  {
   "cell_type": "code",
   "execution_count": 9,
   "metadata": {},
   "outputs": [
    {
     "name": "stdout",
     "output_type": "stream",
     "text": [
      "Starting to train neural network...Number of epochs: 25 Batch size: 16, input size: 40000\n",
      " iteration: 1 , Loss: 1.41102\n",
      " iteration: 2 , Loss: 1.4107\n",
      " iteration: 3 , Loss: 1.41051\n",
      " iteration: 4 , Loss: 1.41019\n",
      " iteration: 5 , Loss: 1.38454\n",
      " iteration: 6 , Loss: 1.24916\n",
      " iteration: 7 , Loss: 1.13209\n",
      " iteration: 8 , Loss: 0.906944\n",
      " iteration: 9 , Loss: 0.56054\n",
      " iteration: 10 , Loss: 0.386379\n",
      " iteration: 11 , Loss: 0.289671\n",
      " iteration: 12 , Loss: 0.21672\n",
      " iteration: 13 , Loss: 0.179687\n",
      " iteration: 14 , Loss: 0.168608\n",
      " iteration: 15 , Loss: 0.140848\n",
      " iteration: 16 , Loss: 0.129715\n",
      " iteration: 17 , Loss: 0.112935\n",
      " iteration: 18 , Loss: 0.101184\n",
      " iteration: 19 , Loss: 0.0894829\n",
      " iteration: 20 , Loss: 0.0748586\n",
      " iteration: 21 , Loss: 0.0698441\n",
      " iteration: 22 , Loss: 0.0572097\n",
      " iteration: 23 , Loss: 0.0529749\n",
      " iteration: 24 , Loss: 0.0454786\n",
      " iteration: 25 , Loss: 0.0403555\n",
      "Training complete\n"
     ]
    }
   ],
   "source": [
    "nn.setLearningRate(0.01)\n",
    "nn.train(train_data_final, train_labels_one_hot, 16, 25, Loss.CrossEntropy)"
   ]
  },
  {
   "cell_type": "code",
   "execution_count": 10,
   "metadata": {},
   "outputs": [
    {
     "name": "stdout",
     "output_type": "stream",
     "text": [
      "percent correct: \n",
      "0.9281\n"
     ]
    }
   ],
   "source": [
    "index = 0\n",
    "matches = 0\n",
    "for data in test_data:\n",
    "    output = nn.execute(test_data[index])\n",
    "    outputIndex, value = max(enumerate(output), key=operator.itemgetter(1))\n",
    "    if outputIndex == test_labels[index][0]:\n",
    "        matches += 1\n",
    "    index += 1\n",
    "match_percentage = matches / index\n",
    "print(\"percent correct: \")\n",
    "print(match_percentage)"
   ]
  },
  {
   "cell_type": "code",
   "execution_count": 11,
   "metadata": {},
   "outputs": [
    {
     "data": {
      "image/png": "[encoded data removed]",
      "text/plain": [
       "<Figure size 640x480 with 1 Axes>"
      ]
     },
     "metadata": {},
     "output_type": "display_data"
    }
   ],
   "source": [
    "display_test_output = test_data[0]\n",
    "pixels = display_test_output.reshape((28,28))\n",
    "plt.imshow(pixels, cmap='gray')\n",
    "plt.show()"
   ]
  },
  {
   "cell_type": "code",
   "execution_count": 12,
   "metadata": {},
   "outputs": [
    {
     "name": "stdout",
     "output_type": "stream",
     "text": [
      "7\n",
      "0.9999898672103882\n"
     ]
    }
   ],
   "source": [
    "display_test_example = nn.execute(test_data[0])\n",
    "\n",
    "outputIndex, value = max(enumerate(display_test_example), key=operator.itemgetter(1))\n",
    "print(outputIndex)\n",
    "print(value)"
   ]
  },
  {
   "cell_type": "code",
   "execution_count": 13,
   "metadata": {},
   "outputs": [
    {
     "data": {
      "image/png": "[encoded data removed]",
      "text/plain": [
       "<Figure size 640x480 with 1 Axes>"
      ]
     },
     "metadata": {},
     "output_type": "display_data"
    }
   ],
   "source": [
    "display_test_output = test_data[2]\n",
    "pixels = display_test_output.reshape((28,28))\n",
    "plt.imshow(pixels, cmap='gray')\n",
    "plt.show()"
   ]
  },
  {
   "cell_type": "code",
   "execution_count": 14,
   "metadata": {},
   "outputs": [
    {
     "name": "stdout",
     "output_type": "stream",
     "text": [
      "0\n",
      "1.1754943508222875e-38\n"
     ]
    }
   ],
   "source": [
    "display_test_example = nn.execute(test_data[2])\n",
    "\n",
    "outputIndex, value = max(enumerate(display_test_example), key=operator.itemgetter(1))\n",
    "print(outputIndex)\n",
    "print(value)"
   ]
  },
  {
   "cell_type": "code",
   "execution_count": null,
   "metadata": {},
   "outputs": [],
   "source": []
  }
 ],
 "metadata": {
  "kernelspec": {
   "display_name": "Python 3 (ipykernel)",
   "language": "python",
   "name": "python3"
  },
  "language_info": {
   "codemirror_mode": {
    "name": "ipython",
    "version": 3
   },
   "file_extension": ".py",
   "mimetype": "text/x-python",
   "name": "python",
   "nbconvert_exporter": "python",
   "pygments_lexer": "ipython3",
   "version": "3.10.8"
  }
 },
 "nbformat": 4,
 "nbformat_minor": 4
}
